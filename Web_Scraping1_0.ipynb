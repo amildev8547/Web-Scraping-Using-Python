{
  "nbformat": 4,
  "nbformat_minor": 0,
  "metadata": {
    "colab": {
      "provenance": []
    },
    "kernelspec": {
      "name": "python3",
      "display_name": "Python 3"
    },
    "language_info": {
      "name": "python"
    }
  },
  "cells": [
    {
      "cell_type": "code",
      "execution_count": 3,
      "metadata": {
        "id": "jWKJfTgVTDrU"
      },
      "outputs": [],
      "source": [
        "import requests\n",
        "from bs4 import BeautifulSoup\n",
        "import csv"
      ]
    },
    {
      "cell_type": "code",
      "source": [
        "# URL of the Flipkart TV category page\n",
        "url = 'https://www.flipkart.com/televisions/pr?sid=ckf%2Cczl&q=tv'\n",
        "\n",
        "# Send a GET request to the URL\n",
        "response = requests.get(url)"
      ],
      "metadata": {
        "id": "06syeR9jaoGk"
      },
      "execution_count": 4,
      "outputs": []
    },
    {
      "cell_type": "code",
      "source": [
        "# Parse the HTML content using BeautifulSoup\n",
        "soup = BeautifulSoup(response.content, 'html.parser')"
      ],
      "metadata": {
        "id": "czTZHYV4atzg"
      },
      "execution_count": 5,
      "outputs": []
    },
    {
      "cell_type": "code",
      "source": [
        "# Find all the TV product containers\n",
        "tv_containers = soup.find_all('div', {'class': '_1AtVbE'})"
      ],
      "metadata": {
        "id": "97RE8v-xazcz"
      },
      "execution_count": 6,
      "outputs": []
    },
    {
      "cell_type": "code",
      "source": [
        "# Create a CSV file to store the product details\n",
        "csv_filename = 'flipkart_tv_products.csv'\n",
        "\n",
        "# Open the CSV file in write mode\n",
        "with open(csv_filename, 'w', newline='', encoding='utf-8') as csv_file:\n",
        "    # Create a CSV writer\n",
        "    csv_writer = csv.writer(csv_file)\n",
        "\n",
        "    # Write the header row\n",
        "    csv_writer.writerow(['Product Name', 'Price', 'Rating', 'Features'])\n",
        "\n",
        "    # Loop through each TV container and extract product details\n",
        "    for tv in tv_containers:\n",
        "        try:\n",
        "            product_name = tv.find('div', {'class': '_4rR01T'}).text\n",
        "            price = tv.find('div', {'class': '_30jeq3'}).text\n",
        "            rating = tv.find('div', {'class': '_3LWZlK'}).text\n",
        "            features = tv.find('ul', {'class': '_1xgFaf'}).text.strip()\n",
        "\n",
        "            # Write the product details to the CSV file\n",
        "            csv_writer.writerow([product_name, price, rating, features])\n",
        "        except AttributeError:\n",
        "            continue\n",
        "\n",
        "print('Scraping and CSV export completed successfully.')"
      ],
      "metadata": {
        "id": "F1AYbJlta3ui",
        "outputId": "0b8518b5-a035-49a6-d1d9-1e118e9c29e7",
        "colab": {
          "base_uri": "https://localhost:8080/"
        }
      },
      "execution_count": 7,
      "outputs": [
        {
          "output_type": "stream",
          "name": "stdout",
          "text": [
            "Scraping and CSV export completed successfully.\n"
          ]
        }
      ]
    }
  ]
}